{
  "nbformat": 4,
  "nbformat_minor": 0,
  "metadata": {
    "colab": {
      "provenance": [],
      "machine_shape": "hm",
      "gpuType": "A100"
    },
    "kernelspec": {
      "name": "python3",
      "display_name": "Python 3"
    },
    "language_info": {
      "name": "python"
    },
    "accelerator": "GPU"
  },
  "cells": [
    {
      "cell_type": "code",
      "source": [
        "!pip install vllm\n",
        "!pip install pygoogletranslation\n",
        "!pip install googletrans==4.0.0-rc1"
      ],
      "metadata": {
        "colab": {
          "base_uri": "https://localhost:8080/"
        },
        "id": "qvjds_wg7sIs",
        "outputId": "e416b5d1-4964-432a-bdad-d311a589ac57"
      },
      "execution_count": 1,
      "outputs": [
        {
          "output_type": "stream",
          "name": "stdout",
          "text": [
            "Requirement already satisfied: vllm in /usr/local/lib/python3.10/dist-packages (0.2.5)\n",
            "Requirement already satisfied: ninja in /usr/local/lib/python3.10/dist-packages (from vllm) (1.11.1.1)\n",
            "Requirement already satisfied: psutil in /usr/local/lib/python3.10/dist-packages (from vllm) (5.9.5)\n",
            "Requirement already satisfied: ray>=2.5.1 in /usr/local/lib/python3.10/dist-packages (from vllm) (2.8.1)\n",
            "Requirement already satisfied: pandas in /usr/local/lib/python3.10/dist-packages (from vllm) (1.5.3)\n",
            "Requirement already satisfied: pyarrow in /usr/local/lib/python3.10/dist-packages (from vllm) (10.0.1)\n",
            "Requirement already satisfied: sentencepiece in /usr/local/lib/python3.10/dist-packages (from vllm) (0.1.99)\n",
            "Requirement already satisfied: numpy in /usr/local/lib/python3.10/dist-packages (from vllm) (1.23.5)\n",
            "Requirement already satisfied: torch>=2.1.1 in /usr/local/lib/python3.10/dist-packages (from vllm) (2.1.2)\n",
            "Requirement already satisfied: transformers>=4.36.0 in /usr/local/lib/python3.10/dist-packages (from vllm) (4.36.1)\n",
            "Requirement already satisfied: xformers>=0.0.23 in /usr/local/lib/python3.10/dist-packages (from vllm) (0.0.23.post1)\n",
            "Requirement already satisfied: fastapi in /usr/local/lib/python3.10/dist-packages (from vllm) (0.105.0)\n",
            "Requirement already satisfied: uvicorn[standard] in /usr/local/lib/python3.10/dist-packages (from vllm) (0.24.0.post1)\n",
            "Requirement already satisfied: pydantic==1.10.13 in /usr/local/lib/python3.10/dist-packages (from vllm) (1.10.13)\n",
            "Requirement already satisfied: aioprometheus[starlette] in /usr/local/lib/python3.10/dist-packages (from vllm) (23.3.0)\n",
            "Requirement already satisfied: typing-extensions>=4.2.0 in /usr/local/lib/python3.10/dist-packages (from pydantic==1.10.13->vllm) (4.9.0)\n",
            "Requirement already satisfied: click>=7.0 in /usr/local/lib/python3.10/dist-packages (from ray>=2.5.1->vllm) (8.1.7)\n",
            "Requirement already satisfied: filelock in /usr/local/lib/python3.10/dist-packages (from ray>=2.5.1->vllm) (3.13.1)\n",
            "Requirement already satisfied: jsonschema in /usr/local/lib/python3.10/dist-packages (from ray>=2.5.1->vllm) (4.19.2)\n",
            "Requirement already satisfied: msgpack<2.0.0,>=1.0.0 in /usr/local/lib/python3.10/dist-packages (from ray>=2.5.1->vllm) (1.0.7)\n",
            "Requirement already satisfied: packaging in /usr/local/lib/python3.10/dist-packages (from ray>=2.5.1->vllm) (23.2)\n",
            "Requirement already satisfied: protobuf!=3.19.5,>=3.15.3 in /usr/local/lib/python3.10/dist-packages (from ray>=2.5.1->vllm) (3.20.3)\n",
            "Requirement already satisfied: pyyaml in /usr/local/lib/python3.10/dist-packages (from ray>=2.5.1->vllm) (6.0.1)\n",
            "Requirement already satisfied: aiosignal in /usr/local/lib/python3.10/dist-packages (from ray>=2.5.1->vllm) (1.3.1)\n",
            "Requirement already satisfied: frozenlist in /usr/local/lib/python3.10/dist-packages (from ray>=2.5.1->vllm) (1.4.0)\n",
            "Requirement already satisfied: requests in /usr/local/lib/python3.10/dist-packages (from ray>=2.5.1->vllm) (2.31.0)\n",
            "Requirement already satisfied: sympy in /usr/local/lib/python3.10/dist-packages (from torch>=2.1.1->vllm) (1.12)\n",
            "Requirement already satisfied: networkx in /usr/local/lib/python3.10/dist-packages (from torch>=2.1.1->vllm) (3.2.1)\n",
            "Requirement already satisfied: jinja2 in /usr/local/lib/python3.10/dist-packages (from torch>=2.1.1->vllm) (3.1.2)\n",
            "Requirement already satisfied: fsspec in /usr/local/lib/python3.10/dist-packages (from torch>=2.1.1->vllm) (2023.6.0)\n",
            "Requirement already satisfied: nvidia-cuda-nvrtc-cu12==12.1.105 in /usr/local/lib/python3.10/dist-packages (from torch>=2.1.1->vllm) (12.1.105)\n",
            "Requirement already satisfied: nvidia-cuda-runtime-cu12==12.1.105 in /usr/local/lib/python3.10/dist-packages (from torch>=2.1.1->vllm) (12.1.105)\n",
            "Requirement already satisfied: nvidia-cuda-cupti-cu12==12.1.105 in /usr/local/lib/python3.10/dist-packages (from torch>=2.1.1->vllm) (12.1.105)\n",
            "Requirement already satisfied: nvidia-cudnn-cu12==8.9.2.26 in /usr/local/lib/python3.10/dist-packages (from torch>=2.1.1->vllm) (8.9.2.26)\n",
            "Requirement already satisfied: nvidia-cublas-cu12==12.1.3.1 in /usr/local/lib/python3.10/dist-packages (from torch>=2.1.1->vllm) (12.1.3.1)\n",
            "Requirement already satisfied: nvidia-cufft-cu12==11.0.2.54 in /usr/local/lib/python3.10/dist-packages (from torch>=2.1.1->vllm) (11.0.2.54)\n",
            "Requirement already satisfied: nvidia-curand-cu12==10.3.2.106 in /usr/local/lib/python3.10/dist-packages (from torch>=2.1.1->vllm) (10.3.2.106)\n",
            "Requirement already satisfied: nvidia-cusolver-cu12==11.4.5.107 in /usr/local/lib/python3.10/dist-packages (from torch>=2.1.1->vllm) (11.4.5.107)\n",
            "Requirement already satisfied: nvidia-cusparse-cu12==12.1.0.106 in /usr/local/lib/python3.10/dist-packages (from torch>=2.1.1->vllm) (12.1.0.106)\n",
            "Requirement already satisfied: nvidia-nccl-cu12==2.18.1 in /usr/local/lib/python3.10/dist-packages (from torch>=2.1.1->vllm) (2.18.1)\n",
            "Requirement already satisfied: nvidia-nvtx-cu12==12.1.105 in /usr/local/lib/python3.10/dist-packages (from torch>=2.1.1->vllm) (12.1.105)\n",
            "Requirement already satisfied: triton==2.1.0 in /usr/local/lib/python3.10/dist-packages (from torch>=2.1.1->vllm) (2.1.0)\n",
            "Requirement already satisfied: nvidia-nvjitlink-cu12 in /usr/local/lib/python3.10/dist-packages (from nvidia-cusolver-cu12==11.4.5.107->torch>=2.1.1->vllm) (12.3.101)\n",
            "Requirement already satisfied: huggingface-hub<1.0,>=0.19.3 in /usr/local/lib/python3.10/dist-packages (from transformers>=4.36.0->vllm) (0.19.4)\n",
            "Requirement already satisfied: regex!=2019.12.17 in /usr/local/lib/python3.10/dist-packages (from transformers>=4.36.0->vllm) (2023.6.3)\n",
            "Requirement already satisfied: tokenizers<0.19,>=0.14 in /usr/local/lib/python3.10/dist-packages (from transformers>=4.36.0->vllm) (0.15.0)\n",
            "Requirement already satisfied: safetensors>=0.3.1 in /usr/local/lib/python3.10/dist-packages (from transformers>=4.36.0->vllm) (0.4.1)\n",
            "Requirement already satisfied: tqdm>=4.27 in /usr/local/lib/python3.10/dist-packages (from transformers>=4.36.0->vllm) (4.66.1)\n",
            "Requirement already satisfied: orjson in /usr/local/lib/python3.10/dist-packages (from aioprometheus[starlette]->vllm) (3.9.10)\n",
            "Requirement already satisfied: quantile-python>=1.1 in /usr/local/lib/python3.10/dist-packages (from aioprometheus[starlette]->vllm) (1.1)\n",
            "Requirement already satisfied: starlette>=0.14.2 in /usr/local/lib/python3.10/dist-packages (from aioprometheus[starlette]->vllm) (0.27.0)\n",
            "Requirement already satisfied: anyio<4.0.0,>=3.7.1 in /usr/local/lib/python3.10/dist-packages (from fastapi->vllm) (3.7.1)\n",
            "Requirement already satisfied: python-dateutil>=2.8.1 in /usr/local/lib/python3.10/dist-packages (from pandas->vllm) (2.8.2)\n",
            "Requirement already satisfied: pytz>=2020.1 in /usr/local/lib/python3.10/dist-packages (from pandas->vllm) (2023.3.post1)\n",
            "Requirement already satisfied: h11>=0.8 in /usr/local/lib/python3.10/dist-packages (from uvicorn[standard]->vllm) (0.9.0)\n",
            "Requirement already satisfied: httptools>=0.5.0 in /usr/local/lib/python3.10/dist-packages (from uvicorn[standard]->vllm) (0.6.1)\n",
            "Requirement already satisfied: python-dotenv>=0.13 in /usr/local/lib/python3.10/dist-packages (from uvicorn[standard]->vllm) (1.0.0)\n",
            "Requirement already satisfied: uvloop!=0.15.0,!=0.15.1,>=0.14.0 in /usr/local/lib/python3.10/dist-packages (from uvicorn[standard]->vllm) (0.19.0)\n",
            "Requirement already satisfied: watchfiles>=0.13 in /usr/local/lib/python3.10/dist-packages (from uvicorn[standard]->vllm) (0.21.0)\n",
            "Requirement already satisfied: websockets>=10.4 in /usr/local/lib/python3.10/dist-packages (from uvicorn[standard]->vllm) (12.0)\n",
            "Requirement already satisfied: idna>=2.8 in /usr/local/lib/python3.10/dist-packages (from anyio<4.0.0,>=3.7.1->fastapi->vllm) (2.10)\n",
            "Requirement already satisfied: sniffio>=1.1 in /usr/local/lib/python3.10/dist-packages (from anyio<4.0.0,>=3.7.1->fastapi->vllm) (1.3.0)\n",
            "Requirement already satisfied: exceptiongroup in /usr/local/lib/python3.10/dist-packages (from anyio<4.0.0,>=3.7.1->fastapi->vllm) (1.2.0)\n",
            "Requirement already satisfied: six>=1.5 in /usr/local/lib/python3.10/dist-packages (from python-dateutil>=2.8.1->pandas->vllm) (1.16.0)\n",
            "Requirement already satisfied: MarkupSafe>=2.0 in /usr/local/lib/python3.10/dist-packages (from jinja2->torch>=2.1.1->vllm) (2.1.3)\n",
            "Requirement already satisfied: attrs>=22.2.0 in /usr/local/lib/python3.10/dist-packages (from jsonschema->ray>=2.5.1->vllm) (23.1.0)\n",
            "Requirement already satisfied: jsonschema-specifications>=2023.03.6 in /usr/local/lib/python3.10/dist-packages (from jsonschema->ray>=2.5.1->vllm) (2023.11.2)\n",
            "Requirement already satisfied: referencing>=0.28.4 in /usr/local/lib/python3.10/dist-packages (from jsonschema->ray>=2.5.1->vllm) (0.32.0)\n",
            "Requirement already satisfied: rpds-py>=0.7.1 in /usr/local/lib/python3.10/dist-packages (from jsonschema->ray>=2.5.1->vllm) (0.13.2)\n",
            "Requirement already satisfied: charset-normalizer<4,>=2 in /usr/local/lib/python3.10/dist-packages (from requests->ray>=2.5.1->vllm) (3.3.2)\n",
            "Requirement already satisfied: urllib3<3,>=1.21.1 in /usr/local/lib/python3.10/dist-packages (from requests->ray>=2.5.1->vllm) (2.0.7)\n",
            "Requirement already satisfied: certifi>=2017.4.17 in /usr/local/lib/python3.10/dist-packages (from requests->ray>=2.5.1->vllm) (2023.11.17)\n",
            "Requirement already satisfied: mpmath>=0.19 in /usr/local/lib/python3.10/dist-packages (from sympy->torch>=2.1.1->vllm) (1.3.0)\n",
            "Requirement already satisfied: pygoogletranslation in /usr/local/lib/python3.10/dist-packages (2.0.6)\n",
            "Requirement already satisfied: requests in /usr/local/lib/python3.10/dist-packages (from pygoogletranslation) (2.31.0)\n",
            "Requirement already satisfied: unidecode in /usr/local/lib/python3.10/dist-packages (from pygoogletranslation) (1.3.7)\n",
            "Requirement already satisfied: nltk in /usr/local/lib/python3.10/dist-packages (from pygoogletranslation) (3.8.1)\n",
            "Requirement already satisfied: docx2txt in /usr/local/lib/python3.10/dist-packages (from pygoogletranslation) (0.8)\n",
            "Requirement already satisfied: PyPDF2 in /usr/local/lib/python3.10/dist-packages (from pygoogletranslation) (3.0.1)\n",
            "Requirement already satisfied: click in /usr/local/lib/python3.10/dist-packages (from nltk->pygoogletranslation) (8.1.7)\n",
            "Requirement already satisfied: joblib in /usr/local/lib/python3.10/dist-packages (from nltk->pygoogletranslation) (1.3.2)\n",
            "Requirement already satisfied: regex>=2021.8.3 in /usr/local/lib/python3.10/dist-packages (from nltk->pygoogletranslation) (2023.6.3)\n",
            "Requirement already satisfied: tqdm in /usr/local/lib/python3.10/dist-packages (from nltk->pygoogletranslation) (4.66.1)\n",
            "Requirement already satisfied: charset-normalizer<4,>=2 in /usr/local/lib/python3.10/dist-packages (from requests->pygoogletranslation) (3.3.2)\n",
            "Requirement already satisfied: idna<4,>=2.5 in /usr/local/lib/python3.10/dist-packages (from requests->pygoogletranslation) (2.10)\n",
            "Requirement already satisfied: urllib3<3,>=1.21.1 in /usr/local/lib/python3.10/dist-packages (from requests->pygoogletranslation) (2.0.7)\n",
            "Requirement already satisfied: certifi>=2017.4.17 in /usr/local/lib/python3.10/dist-packages (from requests->pygoogletranslation) (2023.11.17)\n",
            "Requirement already satisfied: googletrans==4.0.0-rc1 in /usr/local/lib/python3.10/dist-packages (4.0.0rc1)\n",
            "Requirement already satisfied: httpx==0.13.3 in /usr/local/lib/python3.10/dist-packages (from googletrans==4.0.0-rc1) (0.13.3)\n",
            "Requirement already satisfied: certifi in /usr/local/lib/python3.10/dist-packages (from httpx==0.13.3->googletrans==4.0.0-rc1) (2023.11.17)\n",
            "Requirement already satisfied: hstspreload in /usr/local/lib/python3.10/dist-packages (from httpx==0.13.3->googletrans==4.0.0-rc1) (2023.1.1)\n",
            "Requirement already satisfied: sniffio in /usr/local/lib/python3.10/dist-packages (from httpx==0.13.3->googletrans==4.0.0-rc1) (1.3.0)\n",
            "Requirement already satisfied: chardet==3.* in /usr/local/lib/python3.10/dist-packages (from httpx==0.13.3->googletrans==4.0.0-rc1) (3.0.4)\n",
            "Requirement already satisfied: idna==2.* in /usr/local/lib/python3.10/dist-packages (from httpx==0.13.3->googletrans==4.0.0-rc1) (2.10)\n",
            "Requirement already satisfied: rfc3986<2,>=1.3 in /usr/local/lib/python3.10/dist-packages (from httpx==0.13.3->googletrans==4.0.0-rc1) (1.5.0)\n",
            "Requirement already satisfied: httpcore==0.9.* in /usr/local/lib/python3.10/dist-packages (from httpx==0.13.3->googletrans==4.0.0-rc1) (0.9.1)\n",
            "Requirement already satisfied: h11<0.10,>=0.8 in /usr/local/lib/python3.10/dist-packages (from httpcore==0.9.*->httpx==0.13.3->googletrans==4.0.0-rc1) (0.9.0)\n",
            "Requirement already satisfied: h2==3.* in /usr/local/lib/python3.10/dist-packages (from httpcore==0.9.*->httpx==0.13.3->googletrans==4.0.0-rc1) (3.2.0)\n",
            "Requirement already satisfied: hyperframe<6,>=5.2.0 in /usr/local/lib/python3.10/dist-packages (from h2==3.*->httpcore==0.9.*->httpx==0.13.3->googletrans==4.0.0-rc1) (5.2.0)\n",
            "Requirement already satisfied: hpack<4,>=3.0 in /usr/local/lib/python3.10/dist-packages (from h2==3.*->httpcore==0.9.*->httpx==0.13.3->googletrans==4.0.0-rc1) (3.0.0)\n"
          ]
        }
      ]
    },
    {
      "cell_type": "code",
      "source": [
        "from vllm import LLM, SamplingParams\n",
        "\n",
        "llm = LLM(model=\"mistralai/Mistral-7B-Instruct-v0.1\",trust_remote_code=True,dtype=\"auto\")"
      ],
      "metadata": {
        "id": "pg1dl90q7uFL",
        "colab": {
          "base_uri": "https://localhost:8080/"
        },
        "outputId": "e225194e-d678-44c3-ddec-7c4755165592"
      },
      "execution_count": 2,
      "outputs": [
        {
          "output_type": "stream",
          "name": "stdout",
          "text": [
            "INFO 12-16 20:30:41 llm_engine.py:73] Initializing an LLM engine with config: model='mistralai/Mistral-7B-Instruct-v0.1', tokenizer='mistralai/Mistral-7B-Instruct-v0.1', tokenizer_mode=auto, revision=None, tokenizer_revision=None, trust_remote_code=True, dtype=torch.bfloat16, max_seq_len=32768, download_dir=None, load_format=auto, tensor_parallel_size=1, quantization=None, seed=0)\n",
            "INFO 12-16 20:30:52 llm_engine.py:222] # GPU blocks: 8921, # CPU blocks: 2048\n"
          ]
        }
      ]
    },
    {
      "cell_type": "markdown",
      "source": [
        "**Structure Output with One shot Learning**"
      ],
      "metadata": {
        "id": "lnrUeM4o6oK-"
      }
    },
    {
      "cell_type": "markdown",
      "source": [
        "**Template for Mistral-7B-Instruct**\n",
        "\n",
        "`<s>[INST] Instruction [/INST] Model answer</s>[INST] Follow-up instruction [/INST]`"
      ],
      "metadata": {
        "id": "BYGu-Hp9sbug"
      }
    },
    {
      "cell_type": "code",
      "source": [
        "from pygoogletranslation import Translator\n",
        "translator = Translator()"
      ],
      "metadata": {
        "id": "1LmP7rTCC3I1"
      },
      "execution_count": 3,
      "outputs": []
    },
    {
      "cell_type": "code",
      "source": [
        "#prompts = \"နေ့တစ်နေ့ကို အကျိုးရှိရှိ ဘယ်လိုစတင်မလဲ ?\"\n",
        "prompts = \"မြန်မာနိုင်ငံမှာ စိတ်ဝင်စားစရာအကောင်းဆုံးနေရာတွေက ဘာတွေလဲ ?\"\n",
        "#prompts =  \"ပရိုဂရမ်းမင်းကို ဘယ်လိုစလေ့လာရမလဲ ?\"\n",
        "\n",
        "\n",
        "prompt = translator.translate(f'{prompts}', dest='en')\n",
        "query = prompt.text\n"
      ],
      "metadata": {
        "id": "zQgNrybi9AXK"
      },
      "execution_count": 100,
      "outputs": []
    },
    {
      "cell_type": "code",
      "source": [
        "Instruction = \"\"\"\n",
        "You are a helpful AI assistant. Your task is to generate a JSON format based on the given information.\n",
        "Think step by step.\n",
        "\n",
        "Do you have a morning ritual?\n",
        "\n",
        "would be converted to:\n",
        "\"\"\"\n",
        "\n",
        "sample_answer = \"\"\"\n",
        "{\n",
        "- Wake up early (6:30 am) and get out of bed.\n",
        "- Drink a glass of water to hydrate myself.\n",
        "- Exercise for 30 minutes (usually yoga or running).\n",
        "- Take a shower to start the day fresh.\n",
        "}\n",
        "\"\"\"\n",
        "\n",
        "user_question = f\"\"\"\n",
        "{query} :\n",
        "\"\"\"\n",
        "\n",
        "prompt_template = f\"<s>[INST] {Instruction} [/INST] {sample_answer} </s>[INST] {user_question} [/INST]\""
      ],
      "metadata": {
        "id": "QaYC8uim6PWs"
      },
      "execution_count": 101,
      "outputs": []
    },
    {
      "cell_type": "code",
      "source": [
        "sampling_params = SamplingParams(temperature=0.5, top_p=0.95,max_tokens=300)\n",
        "outputs = llm.generate(prompt_template, sampling_params)\n",
        "\n",
        "result = \" \"\n",
        "for output in outputs:\n",
        "    generated_text = output.outputs[0].text\n",
        "    translator = Translator()\n",
        "    result = translator.translate(f'{generated_text}', dest='my')\n",
        "\n"
      ],
      "metadata": {
        "id": "R9wxN5LH6PZc",
        "colab": {
          "base_uri": "https://localhost:8080/"
        },
        "outputId": "68778d38-3d83-4322-8095-2851f828d772"
      },
      "execution_count": 102,
      "outputs": [
        {
          "output_type": "stream",
          "name": "stderr",
          "text": [
            "Processed prompts: 100%|██████████| 1/1 [00:02<00:00,  2.28s/it]\n"
          ]
        }
      ]
    },
    {
      "cell_type": "code",
      "source": [
        "print(f\"Prompt: {prompts!r}\")\n",
        "print(\" \")\n",
        "print(f\"Answer: {result.text}\")"
      ],
      "metadata": {
        "id": "wjWogRjn6Pci",
        "colab": {
          "base_uri": "https://localhost:8080/"
        },
        "outputId": "0070c0c8-ec16-48d4-c5f9-5368b89e8348"
      },
      "execution_count": 103,
      "outputs": [
        {
          "output_type": "stream",
          "name": "stdout",
          "text": [
            "Prompt: 'မြန်မာနိုင်ငံမှာ စိတ်ဝင်စားစရာအကောင်းဆုံးနေရာတွေက ဘာတွေလဲ ?'\n",
            " \n",
            "Answer: {\n",
            "- ပုဂံ - ထောင်ပေါင်းများစွာသောဗုဒ္ဓဘာသာဘုန်းတော်ကြီးကျောင်းများနှင့်ဘုရားတို့နှင့်အတူယူနက်စကိုကမ္ဘာ့အမွေအနှစ်နေရာ။\n",
            "- ရန်ကုန် - မြန်မာနိုင်ငံ၏အကြီးဆုံးမြို့ဖြစ်သောရွှေတိဂုံဘုရားနှင့်ရွှေတိဂုံစေတီဇာအပါအ 0 င်ကြွယ်ဝသောသမိုင်းနှင့်ယဉ်ကျေးမှုတစ်ခုဖြင့်မြန်မာနိုင်ငံ၏အကြီးဆုံးမြို့။\n",
            "- မန္တလေး - မြန်မာနိုင်ငံအလယ်ပိုင်းရှိမြို့တစ်မြို့သည်လှပသောဘုရားကျောင်းများ,\n",
            "- အင်းလေးကန် - တောင်တန်းများနှင့်အတူတစ် ဦး ရင်သပ်ရှုမောဖွယ်ရေကန်များနှင့်အတူတစ် ဦး နှင့်အတူတောင်တန်းများနှင့်တစ် ဦး တည်းသောဘဝလမ်းစဉ်နှင့်ရိုးရာလှေတည်ဆောက်ရေးနည်းစနစ်များအတွက်လူသိများသောတစ် ဦး နှင့်အတူတစ် ဦး နှင့်အတူအိမ်များနှင့်အိမ်များနှင့်အတူတစ် ဦး နှင့်အတူဝိုင်းရံ။\n",
            "- နေပြည်တော် - ခေတ်သစ်ဗိသုကာ, ပြတိုက်များနှင့်ယဉ်ကျေးမှုဆိုင်ရာအထင်ကရနေရာများရှိသောမြန်မာနိုင်ငံ၏မြို့တော်မြို့တော်ဖြစ်သည်။\n",
            "}\n"
          ]
        }
      ]
    },
    {
      "cell_type": "code",
      "source": [],
      "metadata": {
        "id": "m1JYAmwxVmAO"
      },
      "execution_count": 97,
      "outputs": []
    }
  ]
}